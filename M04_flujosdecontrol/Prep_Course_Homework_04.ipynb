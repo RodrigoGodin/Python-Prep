{
 "cells": [
  {
   "attachments": {},
   "cell_type": "markdown",
   "metadata": {},
   "source": [
    "## Flujos de Control"
   ]
  },
  {
   "attachments": {},
   "cell_type": "markdown",
   "metadata": {},
   "source": [
    "1) Crear una variable que contenga un elemento del conjunto de números enteros y luego imprimir por pantalla si es mayor o menor a cero"
   ]
  },
  {
   "cell_type": "code",
   "execution_count": 4,
   "metadata": {},
   "outputs": [
    {
     "name": "stdout",
     "output_type": "stream",
     "text": [
      "15 es mayor\n"
     ]
    }
   ],
   "source": [
    "numero = 15\n",
    "if (numero>0):\n",
    "    print('15 es mayor')\n",
    "elif (numero<0):\n",
    "    print('15 es menor que 4')\n",
    "else:\n",
    "    print('15 es igual a 0')"
   ]
  },
  {
   "attachments": {},
   "cell_type": "markdown",
   "metadata": {},
   "source": [
    "2) Crear dos variables y un condicional que informe si son del mismo tipo de dato"
   ]
  },
  {
   "cell_type": "code",
   "execution_count": 5,
   "metadata": {},
   "outputs": [
    {
     "name": "stdout",
     "output_type": "stream",
     "text": [
      "las variables son de distinto tipo\n"
     ]
    }
   ],
   "source": [
    "numero = 1\n",
    "letra = 'a'\n",
    "if (type(numero) == type(letra)):\n",
    "    print('ambas variables son del mismo tipo de dato')\n",
    "else:\n",
    "    print('las variables son de distinto tipo')"
   ]
  },
  {
   "attachments": {},
   "cell_type": "markdown",
   "metadata": {},
   "source": [
    "3) Para los valores enteros del 1 al 20, imprimir por pantalla si es par o impar"
   ]
  },
  {
   "cell_type": "code",
   "execution_count": 13,
   "metadata": {},
   "outputs": [
    {
     "name": "stdout",
     "output_type": "stream",
     "text": [
      "el valor  1 es impar.\n",
      "el valor  2 es par.\n",
      "el valor  3 es impar.\n",
      "el valor  4 es par.\n",
      "el valor  5 es impar.\n",
      "el valor  6 es par.\n",
      "el valor  7 es impar.\n",
      "el valor  8 es par.\n",
      "el valor  9 es impar.\n",
      "el valor  10 es par.\n",
      "el valor  11 es impar.\n",
      "el valor  12 es par.\n",
      "el valor  13 es impar.\n",
      "el valor  14 es par.\n",
      "el valor  15 es impar.\n",
      "el valor  16 es par.\n",
      "el valor  17 es impar.\n",
      "el valor  18 es par.\n",
      "el valor  19 es impar.\n",
      "el valor  20 es par.\n"
     ]
    }
   ],
   "source": [
    "for n in range (1,21):\n",
    "    if n % 2 == 0:\n",
    "        print('el valor ',str(n), 'es par.')\n",
    "    else:\n",
    "        print('el valor ',str(n), 'es impar.')"
   ]
  },
  {
   "attachments": {},
   "cell_type": "markdown",
   "metadata": {},
   "source": [
    "4) En un ciclo for mostrar para los valores entre 0 y 5 el resultado de elevarlo a la potencia igual a 3"
   ]
  },
  {
   "cell_type": "code",
   "execution_count": 16,
   "metadata": {},
   "outputs": [
    {
     "name": "stdout",
     "output_type": "stream",
     "text": [
      "El valor 0 Elevado a la 3 potencia es:  0\n",
      "El valor 1 Elevado a la 3 potencia es:  1\n",
      "El valor 2 Elevado a la 3 potencia es:  8\n",
      "El valor 3 Elevado a la 3 potencia es:  27\n",
      "El valor 4 Elevado a la 3 potencia es:  64\n",
      "El valor 5 Elevado a la 3 potencia es:  125\n"
     ]
    }
   ],
   "source": [
    "for n in range (0,6):\n",
    "    print('El valor', str(n), 'Elevado a la 3 potencia es: ',str(n**3))"
   ]
  },
  {
   "attachments": {},
   "cell_type": "markdown",
   "metadata": {},
   "source": [
    "5) Crear una variable que contenga un número entero y realizar un ciclo for la misma cantidad de ciclos"
   ]
  },
  {
   "cell_type": "code",
   "execution_count": 21,
   "metadata": {},
   "outputs": [
    {
     "name": "stdout",
     "output_type": "stream",
     "text": [
      "1\n",
      "2\n",
      "3\n",
      "4\n",
      "5\n"
     ]
    }
   ],
   "source": [
    "n = 5\n",
    "for n in range (1,6):\n",
    "    print(n)\n"
   ]
  },
  {
   "attachments": {},
   "cell_type": "markdown",
   "metadata": {},
   "source": [
    "6) Utilizar un ciclo while para realizar el factorial de un número guardado en una variable, sólo si la variable contiene un número entero mayor a 0"
   ]
  },
  {
   "cell_type": "code",
   "execution_count": 39,
   "metadata": {},
   "outputs": [
    {
     "name": "stdout",
     "output_type": "stream",
     "text": [
      "El factorial es  10\n"
     ]
    }
   ],
   "source": [
    "n = 5\n",
    "if (type(n) == int):\n",
    "    if (n > 0):\n",
    "        factorial = n \n",
    "        while (n>2):\n",
    "            n = n -1\n",
    "        factorial = factorial * n \n",
    "        print ('El factorial es ', factorial)\n",
    "    else: \n",
    "        print ('La variable es menor a 0.')\n",
    "else:\n",
    "    print('La variable no es un numero entero.')"
   ]
  },
  {
   "attachments": {},
   "cell_type": "markdown",
   "metadata": {},
   "source": [
    "7) Crear un ciclo for dentro de un ciclo while"
   ]
  },
  {
   "cell_type": "code",
   "execution_count": 41,
   "metadata": {},
   "outputs": [
    {
     "name": "stdout",
     "output_type": "stream",
     "text": [
      "ciclo while nro 1\n",
      "ciclo for nro 1\n",
      "ciclo while nro 2\n",
      "ciclo for nro 1\n",
      "ciclo for nro 2\n",
      "ciclo while nro 3\n",
      "ciclo for nro 1\n",
      "ciclo for nro 2\n",
      "ciclo for nro 3\n",
      "ciclo while nro 4\n",
      "ciclo for nro 1\n",
      "ciclo for nro 2\n",
      "ciclo for nro 3\n",
      "ciclo for nro 4\n"
     ]
    }
   ],
   "source": [
    "n = 1 \n",
    "while n < 5:\n",
    "    print('ciclo while nro ' + str(n))\n",
    "    for i in range (1, n+1):\n",
    "        print('ciclo for nro ' + str(i))\n",
    "    n += 1"
   ]
  },
  {
   "attachments": {},
   "cell_type": "markdown",
   "metadata": {},
   "source": [
    "8) Crear un ciclo while dentro de un ciclo for"
   ]
  },
  {
   "cell_type": "code",
   "execution_count": 21,
   "metadata": {},
   "outputs": [
    {
     "name": "stdout",
     "output_type": "stream",
     "text": [
      "ciclo for nro: 1\n",
      "ciclo while nro: 5\n",
      "ciclo while nro: 4\n",
      "ciclo while nro: 3\n",
      "ciclo while nro: 2\n",
      "ciclo while nro: 1\n",
      "ciclo for nro: 2\n",
      "ciclo while nro: 5\n",
      "ciclo while nro: 4\n",
      "ciclo while nro: 3\n",
      "ciclo while nro: 2\n",
      "ciclo while nro: 1\n",
      "ciclo for nro: 3\n",
      "ciclo while nro: 5\n",
      "ciclo while nro: 4\n",
      "ciclo while nro: 3\n",
      "ciclo while nro: 2\n",
      "ciclo while nro: 1\n",
      "ciclo for nro: 4\n",
      "ciclo while nro: 5\n",
      "ciclo while nro: 4\n",
      "ciclo while nro: 3\n",
      "ciclo while nro: 2\n",
      "ciclo while nro: 1\n"
     ]
    }
   ],
   "source": [
    "n = 5\n",
    "for i  in range (1,n):\n",
    "    print(\"ciclo for nro: \" + str(i))\n",
    "    nueva = n \n",
    "    while n>0:\n",
    "        print('ciclo while nro: ' + str(nueva))\n",
    "        nueva -= 1\n",
    "        if nueva <=0:\n",
    "            break"
   ]
  },
  {
   "attachments": {},
   "cell_type": "markdown",
   "metadata": {},
   "source": [
    "9) Imprimir los números primos existentes entre 0 y 30"
   ]
  },
  {
   "cell_type": "code",
   "execution_count": 28,
   "metadata": {},
   "outputs": [
    {
     "name": "stdout",
     "output_type": "stream",
     "text": [
      "0\n",
      "1\n",
      "2\n",
      "3\n",
      "5\n",
      "7\n",
      "11\n",
      "13\n",
      "17\n",
      "19\n",
      "23\n",
      "29\n"
     ]
    }
   ],
   "source": [
    "tope = 30\n",
    "n = 0\n",
    "primo = True\n",
    "while n < tope:\n",
    "    for div in range (2,n):\n",
    "        if n % div == 0:\n",
    "            primo = False\n",
    "    if primo:\n",
    "        print(n)\n",
    "    else:\n",
    "        primo = True\n",
    "    n += 1"
   ]
  },
  {
   "attachments": {},
   "cell_type": "markdown",
   "metadata": {},
   "source": [
    "10) ¿Se puede mejorar el proceso del punto 9? Utilizar las sentencias break y/ó continue para tal fin"
   ]
  },
  {
   "cell_type": "code",
   "execution_count": 30,
   "metadata": {},
   "outputs": [
    {
     "name": "stdout",
     "output_type": "stream",
     "text": [
      "0\n",
      "1\n",
      "2\n",
      "3\n",
      "5\n",
      "7\n",
      "11\n",
      "13\n",
      "17\n",
      "19\n",
      "23\n",
      "29\n"
     ]
    }
   ],
   "source": [
    "n = 0\n",
    "primo = True\n",
    "while n < tope:\n",
    "    for div in range (2,n):\n",
    "        if n % div == 0:\n",
    "            primo = False\n",
    "            break\n",
    "    if primo:\n",
    "        print(n)\n",
    "    else:\n",
    "        primo = True\n",
    "    n += 1"
   ]
  },
  {
   "attachments": {},
   "cell_type": "markdown",
   "metadata": {},
   "source": [
    "11) En los puntos 9 y 10, se diseño un código que encuentra números primos y además se lo optimizó. ¿Es posible saber en qué medida se optimizó?"
   ]
  },
  {
   "cell_type": "code",
   "execution_count": 31,
   "metadata": {},
   "outputs": [
    {
     "name": "stdout",
     "output_type": "stream",
     "text": [
      "0\n",
      "1\n",
      "2\n",
      "3\n",
      "5\n",
      "7\n",
      "11\n",
      "13\n",
      "17\n",
      "19\n",
      "23\n",
      "29\n",
      "cantidad de ciclos: 378\n"
     ]
    }
   ],
   "source": [
    "ciclos_sin_break = 0\n",
    "n = 0\n",
    "primo = True\n",
    "while n < tope:\n",
    "    for div in range (2,n):\n",
    "        ciclos_sin_break += 1\n",
    "        if n % div == 0:\n",
    "            primo = False\n",
    "    if primo:\n",
    "        print (n)\n",
    "    else:\n",
    "        primo = True\n",
    "    n += 1\n",
    "print('cantidad de ciclos: ' + str(ciclos_sin_break))"
   ]
  },
  {
   "cell_type": "code",
   "execution_count": 34,
   "metadata": {},
   "outputs": [
    {
     "name": "stdout",
     "output_type": "stream",
     "text": [
      "0\n",
      "1\n",
      "2\n",
      "3\n",
      "5\n",
      "7\n",
      "11\n",
      "13\n",
      "17\n",
      "19\n",
      "23\n",
      "29\n",
      "cantidad de ciclos: 134\n",
      "cantidad de ciclos: 0.3544973544973545% de ciclos aplicando break\n"
     ]
    }
   ],
   "source": [
    "ciclos_con_break = 0\n",
    "n = 0 \n",
    "primo = True\n",
    "while (n < tope):\n",
    "    for div in range (2,n):\n",
    "        ciclos_con_break += 1\n",
    "        if (n % div == 0):\n",
    "            primo = False\n",
    "            break\n",
    "    if (primo):\n",
    "        print(n)\n",
    "    else:\n",
    "        primo = True\n",
    "    n += 1\n",
    "print('cantidad de ciclos: ' + str(ciclos_con_break))\n",
    "print(\"cantidad de ciclos: \" + str(ciclos_con_break/ciclos_sin_break) + '% de ciclos aplicando break')"
   ]
  },
  {
   "attachments": {},
   "cell_type": "markdown",
   "metadata": {},
   "source": [
    "12) Aplicando continue, armar un ciclo while que solo imprima los valores divisibles por 12, dentro del rango de números de 100 a 300"
   ]
  },
  {
   "cell_type": "code",
   "execution_count": 44,
   "metadata": {},
   "outputs": [
    {
     "name": "stdout",
     "output_type": "stream",
     "text": [
      "108  es divisible por 12\n",
      "120  es divisible por 12\n",
      "132  es divisible por 12\n",
      "144  es divisible por 12\n",
      "156  es divisible por 12\n",
      "168  es divisible por 12\n",
      "180  es divisible por 12\n",
      "192  es divisible por 12\n",
      "204  es divisible por 12\n",
      "216  es divisible por 12\n",
      "228  es divisible por 12\n",
      "240  es divisible por 12\n",
      "252  es divisible por 12\n",
      "264  es divisible por 12\n",
      "276  es divisible por 12\n",
      "288  es divisible por 12\n",
      "300  es divisible por 12\n"
     ]
    }
   ],
   "source": [
    "n = 100\n",
    "while n <=300:\n",
    "    n += 1\n",
    "    if n % 12 != 0:\n",
    "        continue\n",
    "    print (n , \" es divisible por 12\")"
   ]
  },
  {
   "attachments": {},
   "cell_type": "markdown",
   "metadata": {},
   "source": [
    "13) Utilizar la función **input()** que permite hacer ingresos por teclado, para encontrar números primos y dar la opción al usario de buscar el siguiente"
   ]
  },
  {
   "cell_type": "code",
   "execution_count": 48,
   "metadata": {},
   "outputs": [
    {
     "name": "stdout",
     "output_type": "stream",
     "text": [
      "1\n",
      "¿Desea encontrar el siguiente número primo?\n",
      "Se finaliza el proceso\n"
     ]
    }
   ],
   "source": [
    "n = 1\n",
    "sigue = 1\n",
    "primo = True\n",
    "while (sigue == 1):\n",
    "    for div in range(2, n):\n",
    "        if (n % div == 0):\n",
    "            primo = False\n",
    "            break\n",
    "    if (primo):\n",
    "        print(n)\n",
    "        print('¿Desea encontrar el siguiente número primo?')\n",
    "        if (input() != '1'):\n",
    "            print('Se finaliza el proceso')\n",
    "            break\n",
    "    else:\n",
    "        primo = True\n",
    "    n += 1"
   ]
  },
  {
   "attachments": {},
   "cell_type": "markdown",
   "metadata": {},
   "source": [
    "14) Crear un ciclo while que encuentre dentro del rango de 100 a 300 el primer número divisible por 3 y además múltiplo de 6"
   ]
  },
  {
   "cell_type": "code",
   "execution_count": 56,
   "metadata": {},
   "outputs": [
    {
     "name": "stdout",
     "output_type": "stream",
     "text": [
      "el numero es: 102\n"
     ]
    }
   ],
   "source": [
    "n = 100\n",
    "while (n <= 300):\n",
    "    if n % 6 == 0:\n",
    "        print( \"el numero es: \" + str(n))\n",
    "        break\n",
    "    n += 1"
   ]
  }
 ],
 "metadata": {
  "interpreter": {
   "hash": "c85384e4cb51c8b72350f3a8712cc8351fdc3955e32a27f9b60c6242ab125f01"
  },
  "kernelspec": {
   "display_name": "Python 3 (ipykernel)",
   "language": "python",
   "name": "python3"
  },
  "language_info": {
   "codemirror_mode": {
    "name": "ipython",
    "version": 3
   },
   "file_extension": ".py",
   "mimetype": "text/x-python",
   "name": "python",
   "nbconvert_exporter": "python",
   "pygments_lexer": "ipython3",
   "version": "3.11.5"
  }
 },
 "nbformat": 4,
 "nbformat_minor": 4
}
